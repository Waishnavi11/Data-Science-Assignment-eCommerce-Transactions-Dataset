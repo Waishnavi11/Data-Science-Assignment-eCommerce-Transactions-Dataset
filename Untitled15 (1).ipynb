{
 "cells": [
  {
   "cell_type": "code",
   "execution_count": 11,
   "id": "0ccf8942-4862-4012-a10d-9f5d17fa28f0",
   "metadata": {},
   "outputs": [
    {
     "name": "stdout",
     "output_type": "stream",
     "text": [
      "Lookalike.csv created successfully!\n"
     ]
    }
   ],
   "source": [
    "import pandas as pd\n",
    "from sklearn.metrics.pairwise import cosine_similarity\n",
    "from sklearn.preprocessing import StandardScaler\n",
    "import csv\n",
    "\n",
    "# Load data\n",
    "customers = pd.read_csv(r\"C:\\Users\\ajayc\\Downloads\\Customers.csv\")\n",
    "transactions = pd.read_csv(r\"C:\\Users\\ajayc\\Downloads\\Transactions.csv\")\n",
    "\n",
    "# Prepare data for similarity calculation\n",
    "# Aggregate transaction data\n",
    "transaction_summary = transactions.groupby('CustomerID').agg({\n",
    "    'TotalValue': 'sum',\n",
    "    'Quantity': 'sum'\n",
    "}).reset_index()\n",
    "\n",
    "# Merge with customer data\n",
    "customer_data = pd.merge(customers, transaction_summary, on='CustomerID', how='left')\n",
    "customer_data.fillna(0, inplace=True)  # Handle missing values\n",
    "\n",
    "# Select features and standardize\n",
    "features = customer_data[['TotalValue', 'Quantity']]\n",
    "scaler = StandardScaler()\n",
    "scaled_features = scaler.fit_transform(features)\n",
    "\n",
    "# Calculate similarity matrix\n",
    "similarity_matrix = cosine_similarity(scaled_features)\n",
    "\n",
    "# Define function to get top 3 similar customers\n",
    "def get_top_n(sim_matrix, customer_ids, n=3):\n",
    "    results = {}\n",
    "    for idx, row in enumerate(sim_matrix):\n",
    "        # Sort similarity scores (descending) and exclude self-similarity\n",
    "        similar_indices = row.argsort()[-n-1:-1][::-1]\n",
    "        results[customer_ids[idx]] = [\n",
    "            (customer_ids[i], row[i]) for i in similar_indices\n",
    "        ]\n",
    "    return results\n",
    "\n",
    "# Extract customer IDs\n",
    "customer_ids = customer_data['CustomerID'].tolist()\n",
    "\n",
    "# Get lookalike data\n",
    "lookalikes = get_top_n(similarity_matrix, customer_ids)\n",
    "\n",
    "# Write to CSV\n",
    "with open('FirstName_LastName_Lookalike.csv', 'w', newline='') as f:\n",
    "    writer = csv.writer(f)\n",
    "    writer.writerow(['CustomerID', 'SimilarCustomerID', 'Score'])\n",
    "    for cust_id, similars in lookalikes.items():\n",
    "        for similar_cust_id, score in similars:\n",
    "            writer.writerow([cust_id, similar_cust_id, score])\n",
    "\n",
    "print(\"Lookalike.csv created successfully!\")\n",
    "\n"
   ]
  },
  {
   "cell_type": "code",
   "execution_count": null,
   "id": "4639b22e-52bf-4501-9bed-85c2809616bd",
   "metadata": {},
   "outputs": [],
   "source": []
  },
  {
   "cell_type": "code",
   "execution_count": null,
   "id": "d86641c2-bc9b-41e6-943c-fc719acdd18d",
   "metadata": {},
   "outputs": [],
   "source": []
  }
 ],
 "metadata": {
  "kernelspec": {
   "display_name": "Python 3 (ipykernel)",
   "language": "python",
   "name": "python3"
  },
  "language_info": {
   "codemirror_mode": {
    "name": "ipython",
    "version": 3
   },
   "file_extension": ".py",
   "mimetype": "text/x-python",
   "name": "python",
   "nbconvert_exporter": "python",
   "pygments_lexer": "ipython3",
   "version": "3.12.7"
  }
 },
 "nbformat": 4,
 "nbformat_minor": 5
}
